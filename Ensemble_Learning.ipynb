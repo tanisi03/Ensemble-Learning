{
  "nbformat": 4,
  "nbformat_minor": 0,
  "metadata": {
    "colab": {
      "provenance": []
    },
    "kernelspec": {
      "name": "python3",
      "display_name": "Python 3"
    },
    "language_info": {
      "name": "python"
    }
  },
  "cells": [
    {
      "cell_type": "markdown",
      "source": [
        "Theoretical"
      ],
      "metadata": {
        "id": "_wXx7cX6shh0"
      }
    },
    {
      "cell_type": "code",
      "source": [
        "#Q1. Can we use Bagging for regression problems?\n",
        "\n",
        "#Ans:\n",
        "# Yes, Bagging can be used for regression problems.\n",
        "# A Bagging Regressor is an ensemble method that aggregates predictions from multiple base regressors (e.g., Decision Trees) to reduce variance and improve accuracy."
      ],
      "metadata": {
        "id": "-GJLe6kqs-xT"
      },
      "execution_count": 1,
      "outputs": []
    },
    {
      "cell_type": "code",
      "source": [
        "#Q2. **What is the difference between multiple model training and single model training?**\n",
        "\n",
        "#Ans:\n",
        "# - Single model training involves training a single predictive model on the dataset.\n",
        "# - Multiple model training (ensemble learning) combines multiple models to make predictions, improving robustness, accuracy, and reducing overfitting."
      ],
      "metadata": {
        "id": "SaepyNN3tCbN"
      },
      "execution_count": 2,
      "outputs": []
    },
    {
      "cell_type": "code",
      "source": [
        "#Q3. Explain the concept of feature randomness in Random Forest.\n",
        "\n",
        "#Ans:\n",
        "# In Random Forest, feature randomness means that at each split in a Decision Tree, only a random subset of features is considered rather than the entire feature set.\n",
        "# This increases diversity among trees and reduces correlation, improving generalization."
      ],
      "metadata": {
        "id": "5Q8grgXstGQB"
      },
      "execution_count": 3,
      "outputs": []
    },
    {
      "cell_type": "code",
      "source": [
        "#Q4. What is OOB (Out-of-Bag) Score?\n",
        "\n",
        "#Ans:\n",
        "# The OOB score is an internal validation metric in Bagging-based models like Random Forest.\n",
        "# Since each tree in the ensemble is trained using bootstrap samples, the data points not included in a tree (out-of-bag samples) are used to evaluate the model’s performance."
      ],
      "metadata": {
        "id": "Vg4wDnpntJAY"
      },
      "execution_count": 4,
      "outputs": []
    },
    {
      "cell_type": "code",
      "source": [
        "#Q5. How can you measure the importance of features in a Random Forest model?\n",
        "\n",
        "#Ans:\n",
        "# Feature importance in a Random Forest can be measured using:\n",
        "#    - Gini importance (decrease in impurity)\n",
        "#    - Permutation importance (change in accuracy when a feature is shuffled)"
      ],
      "metadata": {
        "id": "WhwT1BEytMLb"
      },
      "execution_count": 5,
      "outputs": []
    },
    {
      "cell_type": "code",
      "source": [
        "#Q6. Explain the working principle of a Bagging Classifier.\n",
        "\n",
        "#Ans:\n",
        "# A Bagging Classifier creates multiple subsets of the training data using bootstrap sampling,\n",
        "# trains a separate model on each subset, and aggregates their predictions (e.g., majority voting for classification)."
      ],
      "metadata": {
        "id": "zpq2ANv5tO-s"
      },
      "execution_count": 6,
      "outputs": []
    },
    {
      "cell_type": "code",
      "source": [
        "#Q7. How do you evaluate a Bagging Classifier’s performance?\n",
        "\n",
        "#Ans:\n",
        "# It can be evaluated using metrics like accuracy, precision, recall, F1-score, AUC-ROC, and cross-validation."
      ],
      "metadata": {
        "id": "Jf_QD1D7tRYo"
      },
      "execution_count": 7,
      "outputs": []
    },
    {
      "cell_type": "code",
      "source": [
        "#Q8. How does a Bagging Regressor work?\n",
        "\n",
        "#Ans:\n",
        "# A Bagging Regressor trains multiple regression models on bootstrap samples and averages their predictions to reduce variance and improve accuracy."
      ],
      "metadata": {
        "id": "ivpi4JqOtUDN"
      },
      "execution_count": 8,
      "outputs": []
    },
    {
      "cell_type": "code",
      "source": [
        "#Q9. What is the main advantage of ensemble techniques?\n",
        "\n",
        "#Ans:\n",
        "# Ensemble techniques improve predictive performance by reducing variance, bias, and improving generalization."
      ],
      "metadata": {
        "id": "IS7PfO0rtWl2"
      },
      "execution_count": 9,
      "outputs": []
    },
    {
      "cell_type": "code",
      "source": [
        "#Q10. What is the main challenge of ensemble methods?\n",
        "\n",
        "#Ans:\n",
        "# The main challenges include computational complexity, difficulty in interpretation, and the risk of overfitting if not properly tuned."
      ],
      "metadata": {
        "id": "0F05zbXDtZWk"
      },
      "execution_count": 10,
      "outputs": []
    },
    {
      "cell_type": "code",
      "source": [
        "#Q11. Explain the key idea behind ensemble techniques.\n",
        "\n",
        "#Ans:\n",
        "# Ensemble techniques combine multiple models to make better predictions than individual models by reducing bias and variance."
      ],
      "metadata": {
        "id": "rf2jZZ-etzWV"
      },
      "execution_count": 11,
      "outputs": []
    },
    {
      "cell_type": "code",
      "source": [
        "#Q12. What is a Random Forest Classifier?\n",
        "\n",
        "#Ans:\n",
        "# A Random Forest Classifier is an ensemble learning method that constructs multiple Decision Trees and combines their predictions to improve classification accuracy."
      ],
      "metadata": {
        "id": "69nCkm0tt18O"
      },
      "execution_count": 12,
      "outputs": []
    },
    {
      "cell_type": "code",
      "source": [
        "#Q13. What are the main types of ensemble techniques?\n",
        "\n",
        "#Ans:\n",
        "    # - Bagging (Bootstrap Aggregating)\n",
        "    # - Boosting (e.g., AdaBoost, Gradient Boosting)\n",
        "    # - Stacking\n",
        "    # - Voting/Averaging"
      ],
      "metadata": {
        "id": "_B0wSaGit4hC"
      },
      "execution_count": 13,
      "outputs": []
    },
    {
      "cell_type": "code",
      "source": [
        "#Q14. What is ensemble learning in machine learning?\n",
        "\n",
        "#Ans:\n",
        "# Ensemble learning is a method that combines multiple models to produce a more robust predictive model."
      ],
      "metadata": {
        "id": "ZXLO9Bn6vgIk"
      },
      "execution_count": 14,
      "outputs": []
    },
    {
      "cell_type": "code",
      "source": [
        "#Q15. When should we avoid using ensemble methods?\n",
        "\n",
        "#Ans:\n",
        "    # Ensemble methods should be avoided when:\n",
        "    # - The dataset is small, making a single model sufficient.\n",
        "    # - Interpretability is crucial.\n",
        "    # - Computational resources are limited."
      ],
      "metadata": {
        "id": "DQOTz8MyviMR"
      },
      "execution_count": 15,
      "outputs": []
    },
    {
      "cell_type": "code",
      "source": [
        "#Q16. How does Bagging help in reducing overfitting?\n",
        "\n",
        "#Ans:\n",
        "# Bagging reduces overfitting by training multiple models on different bootstrap samples, averaging predictions, and reducing variance."
      ],
      "metadata": {
        "id": "XV5BN0BOvkPg"
      },
      "execution_count": 16,
      "outputs": []
    },
    {
      "cell_type": "code",
      "source": [
        "#Q17. Why is Random Forest better than a single Decision Tree?\n",
        "\n",
        "#Ans:\n",
        "# Random Forest is better because it reduces overfitting, improves accuracy, and generalizes better by averaging multiple Decision Trees."
      ],
      "metadata": {
        "id": "LgOjavOyvmzE"
      },
      "execution_count": 17,
      "outputs": []
    },
    {
      "cell_type": "code",
      "source": [
        "#Q18. What is the role of bootstrap sampling in Bagging?\n",
        "\n",
        "#Ans:\n",
        "# Bootstrap sampling creates diverse training datasets by randomly selecting data points with replacement, leading to less correlation between models and better generalization."
      ],
      "metadata": {
        "id": "zY0uR0qSvo_H"
      },
      "execution_count": 18,
      "outputs": []
    },
    {
      "cell_type": "code",
      "source": [
        "#Q19. What are some real-world applications of ensemble techniques?\n",
        "\n",
        "#Ans:\n",
        "# - Fraud detection\n",
        "# - Medical diagnosis\n",
        "# - Stock price prediction\n",
        "# - Image recognition\n",
        "# - Recommendation systems"
      ],
      "metadata": {
        "id": "5Hn2yYK1vr52"
      },
      "execution_count": 19,
      "outputs": []
    },
    {
      "cell_type": "code",
      "source": [
        "#Q20. What is the difference between Bagging and Boosting?\n",
        "\n",
        "#Ans:\n",
        "# - Bagging reduces variance by training models independently on random subsets.\n",
        "# - Boosting reduces bias by sequentially training models, where each model corrects the errors of the previous one."
      ],
      "metadata": {
        "id": "M8xkeiCgv13E"
      },
      "execution_count": null,
      "outputs": []
    },
    {
      "cell_type": "markdown",
      "source": [
        "Practical"
      ],
      "metadata": {
        "id": "hWP031YowLWG"
      }
    },
    {
      "cell_type": "markdown",
      "source": [
        "Q21 Train a Bagging Classifier using Decision Trees on a sample dataset and print model accuracy ?"
      ],
      "metadata": {
        "id": "P9zeR_FUwMgx"
      }
    },
    {
      "cell_type": "code",
      "source": [
        "from sklearn.ensemble import BaggingClassifier\n",
        "from sklearn.tree import DecisionTreeClassifier\n",
        "from sklearn.model_selection import train_test_split\n",
        "from sklearn.datasets import make_classification\n",
        "from sklearn.metrics import accuracy_score\n",
        "\n",
        "# Generate a sample dataset\n",
        "X, y = make_classification(n_samples=1000, n_features=20, n_informative=15, n_redundant=5, random_state=42)\n",
        "\n",
        "# Split data into training and testing sets\n",
        "X_train, X_test, y_train, y_test = train_test_split(X, y, test_size=0.3, random_state=42)\n",
        "\n",
        "# Create a base Decision Tree classifier\n",
        "base_classifier = DecisionTreeClassifier(random_state=42)\n",
        "\n",
        "# Create a Bagging Classifier with Decision Trees as base estimators\n",
        "bagging_clf = BaggingClassifier(base_classifier, n_estimators=10, random_state=42)\n",
        "\n",
        "# Train the Bagging Classifier\n",
        "bagging_clf.fit(X_train, y_train)\n",
        "\n",
        "# Make predictions on the test set\n",
        "y_pred = bagging_clf.predict(X_test)\n",
        "\n",
        "# Calculate the accuracy of the model\n",
        "accuracy = accuracy_score(y_test, y_pred)\n",
        "\n",
        "print(f\"Model Accuracy: {accuracy:.4f}\")"
      ],
      "metadata": {
        "colab": {
          "base_uri": "https://localhost:8080/"
        },
        "id": "rr7eyA-aw6DG",
        "outputId": "0dadb7b2-27f3-48f7-e6f0-a7c5adb85ee9"
      },
      "execution_count": 20,
      "outputs": [
        {
          "output_type": "stream",
          "name": "stdout",
          "text": [
            "Model Accuracy: 0.8500\n"
          ]
        }
      ]
    },
    {
      "cell_type": "markdown",
      "source": [
        "Q22. Train a Bagging Regressor using Decision Trees and evaluate using Mean Squared Error (MSE)?"
      ],
      "metadata": {
        "id": "F4MiB0hfxAgc"
      }
    },
    {
      "cell_type": "code",
      "source": [
        "from sklearn.tree import DecisionTreeRegressor\n",
        "from sklearn.ensemble import BaggingRegressor\n",
        "from sklearn.datasets import fetch_california_housing\n",
        "from sklearn.model_selection import train_test_split\n",
        "from sklearn.metrics import mean_squared_error\n",
        "\n",
        "# Load the California Housing dataset\n",
        "data = fetch_california_housing()\n",
        "X_train, X_test, y_train, y_test = train_test_split(data.data, data.target, test_size=0.2, random_state=42)\n",
        "\n",
        "# Train a Bagging Regressor using Decision Trees\n",
        "base_regressor = DecisionTreeRegressor()\n",
        "bagging_regressor = BaggingRegressor(estimator=base_regressor, n_estimators=50, random_state=42)\n",
        "bagging_regressor.fit(X_train, y_train)\n",
        "\n",
        "# Predict and evaluate the Bagging Regressor\n",
        "y_pred = bagging_regressor.predict(X_test)\n",
        "mse = mean_squared_error(y_test, y_pred)\n",
        "print(\"Mean Squared Error (MSE) of Bagging Regressor:\", mse)"
      ],
      "metadata": {
        "colab": {
          "base_uri": "https://localhost:8080/"
        },
        "id": "glqS01cTw6ee",
        "outputId": "e394f5ec-dae3-40bf-c45c-01b78bebb3bd"
      },
      "execution_count": 21,
      "outputs": [
        {
          "output_type": "stream",
          "name": "stdout",
          "text": [
            "Mean Squared Error (MSE) of Bagging Regressor: 0.2572988359842641\n"
          ]
        }
      ]
    },
    {
      "cell_type": "markdown",
      "source": [
        "Q23. Train a Random Forest Classifier on the Breast Cancer dataset and print feature importance scores?"
      ],
      "metadata": {
        "id": "FUF7MwlOxNtS"
      }
    },
    {
      "cell_type": "code",
      "source": [
        "from sklearn.datasets import load_breast_cancer\n",
        "from sklearn.model_selection import train_test_split\n",
        "from sklearn.ensemble import RandomForestClassifier\n",
        "import pandas as pd\n",
        "\n",
        "# Load the Breast Cancer dataset\n",
        "breast_cancer = load_breast_cancer()\n",
        "X_train, X_test, y_train, y_test = train_test_split(breast_cancer.data, breast_cancer.target, test_size=0.2, random_state=42)\n",
        "\n",
        "# Train a Random Forest Classifier\n",
        "model = RandomForestClassifier(n_estimators=100, random_state=42)\n",
        "model.fit(X_train, y_train)\n",
        "\n",
        "# Get feature importance scores\n",
        "feature_importances = model.feature_importances_\n",
        "features = breast_cancer.feature_names\n",
        "\n",
        "# Create a DataFrame for better visualization\n",
        "importance_df = pd.DataFrame({'Feature': features, 'Importance': feature_importances})\n",
        "print(\"Feature Importance Scores:\")\n",
        "print(importance_df)\n",
        "\n",
        "# Sort by importance\n",
        "importance_df_sorted = importance_df.sort_values(by='Importance', ascending=False)\n",
        "print(\"\\nSorted Feature Importance Scores:\")\n",
        "print(importance_df_sorted)"
      ],
      "metadata": {
        "colab": {
          "base_uri": "https://localhost:8080/"
        },
        "id": "H6pQfte-xJ-z",
        "outputId": "bf79d979-e986-43fa-bfa9-96f22ae246ec"
      },
      "execution_count": 22,
      "outputs": [
        {
          "output_type": "stream",
          "name": "stdout",
          "text": [
            "Feature Importance Scores:\n",
            "                    Feature  Importance\n",
            "0               mean radius    0.048703\n",
            "1              mean texture    0.013591\n",
            "2            mean perimeter    0.053270\n",
            "3                 mean area    0.047555\n",
            "4           mean smoothness    0.007285\n",
            "5          mean compactness    0.013944\n",
            "6            mean concavity    0.068001\n",
            "7       mean concave points    0.106210\n",
            "8             mean symmetry    0.003770\n",
            "9    mean fractal dimension    0.003886\n",
            "10             radius error    0.020139\n",
            "11            texture error    0.004724\n",
            "12          perimeter error    0.011303\n",
            "13               area error    0.022407\n",
            "14         smoothness error    0.004271\n",
            "15        compactness error    0.005253\n",
            "16          concavity error    0.009386\n",
            "17     concave points error    0.003513\n",
            "18           symmetry error    0.004018\n",
            "19  fractal dimension error    0.005321\n",
            "20             worst radius    0.077987\n",
            "21            worst texture    0.021749\n",
            "22          worst perimeter    0.067115\n",
            "23               worst area    0.153892\n",
            "24         worst smoothness    0.010644\n",
            "25        worst compactness    0.020266\n",
            "26          worst concavity    0.031802\n",
            "27     worst concave points    0.144663\n",
            "28           worst symmetry    0.010120\n",
            "29  worst fractal dimension    0.005210\n",
            "\n",
            "Sorted Feature Importance Scores:\n",
            "                    Feature  Importance\n",
            "23               worst area    0.153892\n",
            "27     worst concave points    0.144663\n",
            "7       mean concave points    0.106210\n",
            "20             worst radius    0.077987\n",
            "6            mean concavity    0.068001\n",
            "22          worst perimeter    0.067115\n",
            "2            mean perimeter    0.053270\n",
            "0               mean radius    0.048703\n",
            "3                 mean area    0.047555\n",
            "26          worst concavity    0.031802\n",
            "13               area error    0.022407\n",
            "21            worst texture    0.021749\n",
            "25        worst compactness    0.020266\n",
            "10             radius error    0.020139\n",
            "5          mean compactness    0.013944\n",
            "1              mean texture    0.013591\n",
            "12          perimeter error    0.011303\n",
            "24         worst smoothness    0.010644\n",
            "28           worst symmetry    0.010120\n",
            "16          concavity error    0.009386\n",
            "4           mean smoothness    0.007285\n",
            "19  fractal dimension error    0.005321\n",
            "15        compactness error    0.005253\n",
            "29  worst fractal dimension    0.005210\n",
            "11            texture error    0.004724\n",
            "14         smoothness error    0.004271\n",
            "18           symmetry error    0.004018\n",
            "9    mean fractal dimension    0.003886\n",
            "8             mean symmetry    0.003770\n",
            "17     concave points error    0.003513\n"
          ]
        }
      ]
    },
    {
      "cell_type": "markdown",
      "source": [
        "Q24. Train a Random Forest Regressor and compare its performance with a single Decision Tree?"
      ],
      "metadata": {
        "id": "2An3RJagxUEd"
      }
    },
    {
      "cell_type": "code",
      "source": [
        "# Import necessary libraries\n",
        "from sklearn.tree import DecisionTreeRegressor\n",
        "from sklearn.ensemble import RandomForestRegressor\n",
        "from sklearn.datasets import fetch_california_housing\n",
        "from sklearn.model_selection import train_test_split\n",
        "from sklearn.metrics import mean_squared_error\n",
        "\n",
        "# Load the California Housing dataset\n",
        "data = fetch_california_housing()\n",
        "X_train, X_test, y_train, y_test = train_test_split(data.data, data.target, test_size=0.2, random_state=42)\n",
        "\n",
        "# Train a Single Decision Tree Regressor\n",
        "tree_regressor = DecisionTreeRegressor(random_state=42)\n",
        "tree_regressor.fit(X_train, y_train)\n",
        "\n",
        "# Predict and evaluate the Decision Tree Regressor\n",
        "y_pred_tree = tree_regressor.predict(X_test)\n",
        "mse_tree = mean_squared_error(y_test, y_pred_tree)\n",
        "print(\"Mean Squared Error (MSE) of Decision Tree Regressor:\", mse_tree)\n",
        "\n",
        "# Train a Random Forest Regressor\n",
        "forest_regressor = RandomForestRegressor(n_estimators=100, random_state=42)\n",
        "forest_regressor.fit(X_train, y_train)\n",
        "\n",
        "# Predict and evaluate the Random Forest Regressor\n",
        "y_pred_forest = forest_regressor.predict(X_test)\n",
        "mse_forest = mean_squared_error(y_test, y_pred_forest)\n",
        "print(\"Mean Squared Error (MSE) of Random Forest Regressor:\", mse_forest)\n",
        "\n",
        "# Compare the MSEs\n",
        "print(f\"MSE of Decision Tree Regressor: {mse_tree:.2f}\")\n",
        "print(f\"MSE of Random Forest Regressor: {mse_forest:.2f}\")"
      ],
      "metadata": {
        "colab": {
          "base_uri": "https://localhost:8080/"
        },
        "id": "6DlvA_26xS_6",
        "outputId": "04f32d45-6b96-4532-b081-fc631b9c47b1"
      },
      "execution_count": 23,
      "outputs": [
        {
          "output_type": "stream",
          "name": "stdout",
          "text": [
            "Mean Squared Error (MSE) of Decision Tree Regressor: 0.495235205629094\n",
            "Mean Squared Error (MSE) of Random Forest Regressor: 0.2553684927247781\n",
            "MSE of Decision Tree Regressor: 0.50\n",
            "MSE of Random Forest Regressor: 0.26\n"
          ]
        }
      ]
    },
    {
      "cell_type": "markdown",
      "source": [
        "Q25. Compute the Out-of-Bag (OOB) Score for a Random Forest Classifier?"
      ],
      "metadata": {
        "id": "cnfmO9pzxdID"
      }
    },
    {
      "cell_type": "code",
      "source": [
        "from sklearn.datasets import load_breast_cancer\n",
        "from sklearn.model_selection import train_test_split\n",
        "from sklearn.ensemble import RandomForestClassifier\n",
        "\n",
        "# Load the Breast Cancer dataset\n",
        "breast_cancer = load_breast_cancer()\n",
        "X_train, X_test, y_train, y_test = train_test_split(breast_cancer.data, breast_cancer.target, test_size=0.2, random_state=42)\n",
        "\n",
        "# Train a Random Forest Classifier with OOB score enabled\n",
        "model = RandomForestClassifier(n_estimators=100, oob_score=True, random_state=42)\n",
        "model.fit(X_train, y_train)\n",
        "\n",
        "# Compute the OOB score\n",
        "oob_score = model.oob_score_\n",
        "print(\"Out-of-Bag (OOB) Score:\", oob_score)\n",
        "\n",
        "# Evaluate the model on the test set\n",
        "accuracy = model.score(X_test, y_test)\n",
        "print(\"Accuracy on test set:\", accuracy)"
      ],
      "metadata": {
        "colab": {
          "base_uri": "https://localhost:8080/"
        },
        "id": "bonQ7kcrxbo0",
        "outputId": "65fd9bf9-a613-4e76-a811-57d561790d4a"
      },
      "execution_count": 24,
      "outputs": [
        {
          "output_type": "stream",
          "name": "stdout",
          "text": [
            "Out-of-Bag (OOB) Score: 0.9560439560439561\n",
            "Accuracy on test set: 0.9649122807017544\n"
          ]
        }
      ]
    },
    {
      "cell_type": "markdown",
      "source": [
        "Q26. Train a Bagging Classifier using SVM as a base estimator and print accuracy ?"
      ],
      "metadata": {
        "id": "rU_QJKfIxk0m"
      }
    },
    {
      "cell_type": "code",
      "source": [
        "from sklearn.svm import SVC\n",
        "from sklearn.ensemble import BaggingClassifier\n",
        "from sklearn.datasets import load_breast_cancer\n",
        "from sklearn.model_selection import train_test_split\n",
        "from sklearn.metrics import accuracy_score\n",
        "\n",
        "# Load the Breast Cancer dataset\n",
        "breast_cancer = load_breast_cancer()\n",
        "X_train, X_test, y_train, y_test = train_test_split(breast_cancer.data, breast_cancer.target, test_size=0.2, random_state=42)\n",
        "\n",
        "# Train a Bagging Classifier using SVM as base estimator\n",
        "base_estimator = SVC()\n",
        "bagging_classifier = BaggingClassifier(estimator=base_estimator, n_estimators=50, random_state=42)\n",
        "bagging_classifier.fit(X_train, y_train)\n",
        "\n",
        "# Predict and evaluate the Bagging Classifier\n",
        "y_pred = bagging_classifier.predict(X_test)\n",
        "accuracy = accuracy_score(y_test, y_pred)\n",
        "print(\"Accuracy of Bagging Classifier with SVM base estimator:\", accuracy)"
      ],
      "metadata": {
        "colab": {
          "base_uri": "https://localhost:8080/"
        },
        "id": "Fy2TgFQXxkLx",
        "outputId": "a0cb8c58-2fa4-44a9-fd26-d667e05bbe50"
      },
      "execution_count": 25,
      "outputs": [
        {
          "output_type": "stream",
          "name": "stdout",
          "text": [
            "Accuracy of Bagging Classifier with SVM base estimator: 0.9473684210526315\n"
          ]
        }
      ]
    },
    {
      "cell_type": "markdown",
      "source": [
        "Q27. Train a Random Forest Classifier with different numbers of trees and compare accuracy?"
      ],
      "metadata": {
        "id": "jhX9wZSIxuI7"
      }
    },
    {
      "cell_type": "code",
      "source": [
        "# Import necessary libraries\n",
        "from sklearn.datasets import load_breast_cancer\n",
        "from sklearn.model_selection import train_test_split\n",
        "from sklearn.ensemble import RandomForestClassifier\n",
        "from sklearn.metrics import accuracy_score\n",
        "\n",
        "# Load the Breast Cancer dataset\n",
        "breast_cancer = load_breast_cancer()\n",
        "X_train, X_test, y_train, y_test = train_test_split(breast_cancer.data, breast_cancer.target, test_size=0.2, random_state=42)\n",
        "\n",
        "# List of different numbers of trees (estimators) to try\n",
        "n_estimators_list = [10, 50, 100, 200]\n",
        "\n",
        "# Dictionary to store accuracies for each number of trees\n",
        "accuracy_results = {}\n",
        "\n",
        "# Train and evaluate Random Forest Classifier for each number of trees\n",
        "for n_estimators in n_estimators_list:\n",
        "    model = RandomForestClassifier(n_estimators=n_estimators, random_state=42)\n",
        "    model.fit(X_train, y_train)\n",
        "    y_pred = model.predict(X_test)\n",
        "    accuracy = accuracy_score(y_test, y_pred)\n",
        "    accuracy_results[n_estimators] = accuracy\n",
        "    print(f\"Accuracy with {n_estimators} trees: {accuracy:.4f}\")\n",
        "\n",
        "# Print accuracy results\n",
        "print(\"\\nAccuracy Results:\")\n",
        "for n_estimators, accuracy in accuracy_results.items():\n",
        "    print(f\"{n_estimators} trees: {accuracy:.4f}\")"
      ],
      "metadata": {
        "colab": {
          "base_uri": "https://localhost:8080/"
        },
        "id": "UlgF5srAxtgJ",
        "outputId": "6289b0fe-7669-488e-f8e5-0afeed41841f"
      },
      "execution_count": 26,
      "outputs": [
        {
          "output_type": "stream",
          "name": "stdout",
          "text": [
            "Accuracy with 10 trees: 0.9561\n",
            "Accuracy with 50 trees: 0.9649\n",
            "Accuracy with 100 trees: 0.9649\n",
            "Accuracy with 200 trees: 0.9649\n",
            "\n",
            "Accuracy Results:\n",
            "10 trees: 0.9561\n",
            "50 trees: 0.9649\n",
            "100 trees: 0.9649\n",
            "200 trees: 0.9649\n"
          ]
        }
      ]
    },
    {
      "cell_type": "markdown",
      "source": [
        "Q28. Train a Bagging Classifier using Logistic Regression as a base estimator and print AUC score?"
      ],
      "metadata": {
        "id": "jMDGVIQox4WC"
      }
    },
    {
      "cell_type": "code",
      "source": [
        "from sklearn.linear_model import LogisticRegression\n",
        "from sklearn.ensemble import BaggingClassifier\n",
        "from sklearn.datasets import load_breast_cancer\n",
        "from sklearn.model_selection import train_test_split\n",
        "from sklearn.metrics import roc_auc_score\n",
        "\n",
        "# Load the Breast Cancer dataset\n",
        "breast_cancer = load_breast_cancer()\n",
        "X_train, X_test, y_train, y_test = train_test_split(breast_cancer.data, breast_cancer.target, test_size=0.2, random_state=42)\n",
        "\n",
        "# Train a Bagging Classifier using Logistic Regression as base estimator\n",
        "base_estimator = LogisticRegression(max_iter=10000)\n",
        "bagging_classifier = BaggingClassifier(estimator=base_estimator, n_estimators=50, random_state=42)\n",
        "bagging_classifier.fit(X_train, y_train)\n",
        "\n",
        "# Predict probabilities of the positive class\n",
        "y_pred_proba = bagging_classifier.predict_proba(X_test)[:, 1]\n",
        "\n",
        "# Compute AUC score\n",
        "auc_score = roc_auc_score(y_test, y_pred_proba)\n",
        "print(\"AUC Score of Bagging Classifier with Logistic Regression base estimator:\", auc_score)"
      ],
      "metadata": {
        "colab": {
          "base_uri": "https://localhost:8080/"
        },
        "id": "wraUeOi7x3XV",
        "outputId": "ac06be13-4b84-4e3a-c43c-beece551d283"
      },
      "execution_count": 27,
      "outputs": [
        {
          "output_type": "stream",
          "name": "stdout",
          "text": [
            "AUC Score of Bagging Classifier with Logistic Regression base estimator: 0.99737962659679\n"
          ]
        }
      ]
    },
    {
      "cell_type": "markdown",
      "source": [
        "Q29. Train a Random Forest Regressor and analyze feature importance scores?"
      ],
      "metadata": {
        "id": "wCCgZ65CyAHe"
      }
    },
    {
      "cell_type": "code",
      "source": [
        "from sklearn.ensemble import RandomForestRegressor\n",
        "from sklearn.datasets import fetch_california_housing\n",
        "from sklearn.model_selection import train_test_split\n",
        "from sklearn.metrics import mean_squared_error\n",
        "import pandas as pd\n",
        "\n",
        "# Load the California Housing dataset\n",
        "data = fetch_california_housing()\n",
        "X_train, X_test, y_train, y_test = train_test_split(data.data, data.target, test_size=0.2, random_state=42)\n",
        "\n",
        "# Train a Random Forest Regressor\n",
        "model = RandomForestRegressor(n_estimators=100, random_state=42)\n",
        "model.fit(X_train, y_train)\n",
        "\n",
        "# Predict and evaluate the model\n",
        "y_pred = model.predict(X_test)\n",
        "mse = mean_squared_error(y_test, y_pred)\n",
        "print(\"Mean Squared Error (MSE):\", mse)\n",
        "\n",
        "# Get feature importance scores\n",
        "feature_importances = model.feature_importances_\n",
        "features = data.feature_names\n",
        "\n",
        "# Create a DataFrame for better visualization\n",
        "importance_df = pd.DataFrame({'Feature': features, 'Importance': feature_importances})\n",
        "print(\"Feature Importance Scores:\")\n",
        "print(importance_df)\n",
        "\n",
        "# Sort by importance\n",
        "importance_df_sorted = importance_df.sort_values(by='Importance', ascending=False)\n",
        "print(\"\\nSorted Feature Importance Scores:\")\n",
        "print(importance_df_sorted)"
      ],
      "metadata": {
        "colab": {
          "base_uri": "https://localhost:8080/"
        },
        "id": "rk89JWvOx_c3",
        "outputId": "8c0690bf-75d1-44ea-e432-a02b0ae31bcb"
      },
      "execution_count": 28,
      "outputs": [
        {
          "output_type": "stream",
          "name": "stdout",
          "text": [
            "Mean Squared Error (MSE): 0.2553684927247781\n",
            "Feature Importance Scores:\n",
            "      Feature  Importance\n",
            "0      MedInc    0.524871\n",
            "1    HouseAge    0.054593\n",
            "2    AveRooms    0.044272\n",
            "3   AveBedrms    0.029606\n",
            "4  Population    0.030650\n",
            "5    AveOccup    0.138443\n",
            "6    Latitude    0.088936\n",
            "7   Longitude    0.088629\n",
            "\n",
            "Sorted Feature Importance Scores:\n",
            "      Feature  Importance\n",
            "0      MedInc    0.524871\n",
            "5    AveOccup    0.138443\n",
            "6    Latitude    0.088936\n",
            "7   Longitude    0.088629\n",
            "1    HouseAge    0.054593\n",
            "2    AveRooms    0.044272\n",
            "4  Population    0.030650\n",
            "3   AveBedrms    0.029606\n"
          ]
        }
      ]
    },
    {
      "cell_type": "markdown",
      "source": [
        "Q30. Train an ensemble model using both Bagging and Random Forest and compare accuracy?"
      ],
      "metadata": {
        "id": "B-ZrHWJlyJqS"
      }
    },
    {
      "cell_type": "code",
      "source": [
        "from sklearn.datasets import load_breast_cancer\n",
        "from sklearn.model_selection import train_test_split\n",
        "from sklearn.ensemble import BaggingClassifier, RandomForestClassifier\n",
        "from sklearn.tree import DecisionTreeClassifier\n",
        "from sklearn.metrics import accuracy_score\n",
        "\n",
        "# Load the Breast Cancer dataset\n",
        "breast_cancer = load_breast_cancer()\n",
        "X_train, X_test, y_train, y_test = train_test_split(breast_cancer.data, breast_cancer.target, test_size=0.2, random_state=42)\n",
        "\n",
        "# Train a Bagging Classifier using Decision Tree as base estimator\n",
        "bagging_classifier = BaggingClassifier(estimator=DecisionTreeClassifier(), n_estimators=50, random_state=42)\n",
        "bagging_classifier.fit(X_train, y_train)\n",
        "\n",
        "# Train a Random Forest Classifier\n",
        "random_forest_classifier = RandomForestClassifier(n_estimators=100, random_state=42)\n",
        "random_forest_classifier.fit(X_train, y_train)\n",
        "\n",
        "# Predict and evaluate the Bagging Classifier\n",
        "y_pred_bagging = bagging_classifier.predict(X_test)\n",
        "accuracy_bagging = accuracy_score(y_test, y_pred_bagging)\n",
        "print(\"Accuracy of Bagging Classifier:\", accuracy_bagging)\n",
        "\n",
        "# Predict and evaluate the Random Forest Classifier\n",
        "y_pred_random_forest = random_forest_classifier.predict(X_test)\n",
        "accuracy_random_forest = accuracy_score(y_test, y_pred_random_forest)\n",
        "print(\"Accuracy of Random Forest Classifier:\", accuracy_random_forest)\n",
        "\n",
        "# Compare the accuracies\n",
        "print(f\"Accuracy of Bagging Classifier: {accuracy_bagging:.4f}\")\n",
        "print(f\"Accuracy of Random Forest Classifier: {accuracy_random_forest:.4f}\")"
      ],
      "metadata": {
        "colab": {
          "base_uri": "https://localhost:8080/"
        },
        "id": "leomQkXRyIu8",
        "outputId": "2c16deaf-5537-4472-9912-d5613a6fcbfb"
      },
      "execution_count": 29,
      "outputs": [
        {
          "output_type": "stream",
          "name": "stdout",
          "text": [
            "Accuracy of Bagging Classifier: 0.956140350877193\n",
            "Accuracy of Random Forest Classifier: 0.9649122807017544\n",
            "Accuracy of Bagging Classifier: 0.9561\n",
            "Accuracy of Random Forest Classifier: 0.9649\n"
          ]
        }
      ]
    },
    {
      "cell_type": "markdown",
      "source": [
        "Q31. Train a Random Forest Classifier and tune hyperparameters using GridSearchCV?"
      ],
      "metadata": {
        "id": "y2Qkihm2yX8Y"
      }
    },
    {
      "cell_type": "code",
      "source": [
        "from sklearn.model_selection import GridSearchCV\n",
        "\n",
        "# Load the Breast Cancer dataset\n",
        "breast_cancer = load_breast_cancer()\n",
        "X_train, X_test, y_train, y_test = train_test_split(breast_cancer.data, breast_cancer.target, test_size=0.2, random_state=42)\n",
        "\n",
        "# Define the parameter grid to tune\n",
        "param_grid = {\n",
        "    'n_estimators': [50, 100, 150],\n",
        "    'max_depth': [None, 5, 10],\n",
        "    'min_samples_split': [2, 5, 10]\n",
        "}\n",
        "\n",
        "# Create a Random Forest Classifier\n",
        "rf_classifier = RandomForestClassifier(random_state=42)\n",
        "\n",
        "# Create GridSearchCV object\n",
        "grid_search = GridSearchCV(estimator=rf_classifier, param_grid=param_grid, cv=5, scoring='accuracy')\n",
        "\n",
        "# Fit GridSearchCV to the training data\n",
        "grid_search.fit(X_train, y_train)\n",
        "\n",
        "# Get the best parameters and best score\n",
        "best_params = grid_search.best_params_\n",
        "best_score = grid_search.best_score_\n",
        "\n",
        "print(\"Best Hyperparameters:\", best_params)\n",
        "print(\"Best Accuracy (from cross-validation):\", best_score)\n",
        "\n",
        "# Evaluate the best model on the test set\n",
        "best_model = grid_search.best_estimator_\n",
        "test_accuracy = best_model.score(X_test, y_test)\n",
        "print(\"Accuracy on the test set with best model:\", test_accuracy)\n"
      ],
      "metadata": {
        "colab": {
          "base_uri": "https://localhost:8080/"
        },
        "id": "9IVrv29Dzvnw",
        "outputId": "f4aa0bc2-66cc-4a69-fe30-8d5671de5e20"
      },
      "execution_count": 32,
      "outputs": [
        {
          "output_type": "stream",
          "name": "stdout",
          "text": [
            "Best Hyperparameters: {'max_depth': None, 'min_samples_split': 2, 'n_estimators': 150}\n",
            "Best Accuracy (from cross-validation): 0.9626373626373625\n",
            "Accuracy on the test set with best model: 0.9649122807017544\n"
          ]
        }
      ]
    },
    {
      "cell_type": "markdown",
      "source": [
        "Q32. Train a Bagging Regressor with different numbers of base estimators and compare performance?"
      ],
      "metadata": {
        "id": "VG4kTIIHydHy"
      }
    },
    {
      "cell_type": "code",
      "source": [
        "# Import necessary libraries\n",
        "from sklearn.tree import DecisionTreeRegressor\n",
        "from sklearn.ensemble import BaggingRegressor\n",
        "from sklearn.datasets import fetch_california_housing\n",
        "from sklearn.model_selection import train_test_split\n",
        "from sklearn.metrics import mean_squared_error\n",
        "\n",
        "# Load the California Housing dataset\n",
        "data = fetch_california_housing()\n",
        "X_train, X_test, y_train, y_test = train_test_split(data.data, data.target, test_size=0.2, random_state=42)\n",
        "\n",
        "# List of different numbers of base estimators to try\n",
        "n_estimators_list = [10, 50, 100, 200]\n",
        "\n",
        "# Dictionary to store MSE for each number of base estimators\n",
        "mse_results = {}\n",
        "\n",
        "# Train and evaluate Bagging Regressor for each number of base estimators\n",
        "for n_estimators in n_estimators_list:\n",
        "    model = BaggingRegressor(estimator=DecisionTreeRegressor(), n_estimators=n_estimators, random_state=42)\n",
        "    model.fit(X_train, y_train)\n",
        "    y_pred = model.predict(X_test)\n",
        "    mse = mean_squared_error(y_test, y_pred)\n",
        "    mse_results[n_estimators] = mse\n",
        "    print(f\"MSE with {n_estimators} base estimators: {mse:.4f}\")\n",
        "\n",
        "# Print MSE results\n",
        "print(\"\\nMSE Results:\")\n",
        "for n_estimators, mse in mse_results.items():\n",
        "    print(f\"{n_estimators} base estimators: {mse:.4f}\")"
      ],
      "metadata": {
        "colab": {
          "base_uri": "https://localhost:8080/"
        },
        "id": "_mfv_0sMycXH",
        "outputId": "cb078ce7-bbda-44ca-9874-00cd0ab05ef1"
      },
      "execution_count": 39,
      "outputs": [
        {
          "output_type": "stream",
          "name": "stdout",
          "text": [
            "MSE with 10 base estimators: 0.2824\n",
            "MSE with 50 base estimators: 0.2573\n",
            "MSE with 100 base estimators: 0.2559\n",
            "MSE with 200 base estimators: 0.2541\n",
            "\n",
            "MSE Results:\n",
            "10 base estimators: 0.2824\n",
            "50 base estimators: 0.2573\n",
            "100 base estimators: 0.2559\n",
            "200 base estimators: 0.2541\n"
          ]
        }
      ]
    },
    {
      "cell_type": "markdown",
      "source": [
        "Q33. Train a Random Forest Classifier and analyze misclassified samples?"
      ],
      "metadata": {
        "id": "-Ke6sS8ZymYx"
      }
    },
    {
      "cell_type": "code",
      "source": [
        "from sklearn.datasets import load_breast_cancer\n",
        "from sklearn.model_selection import train_test_split\n",
        "from sklearn.ensemble import RandomForestClassifier\n",
        "from sklearn.metrics import accuracy_score, confusion_matrix\n",
        "\n",
        "# Load the Breast Cancer dataset\n",
        "breast_cancer = load_breast_cancer()\n",
        "X_train, X_test, y_train, y_test = train_test_split(breast_cancer.data, breast_cancer.target, test_size=0.2, random_state=42)\n",
        "\n",
        "# Train a Random Forest Classifier\n",
        "model = RandomForestClassifier(n_estimators=100, random_state=42)\n",
        "model.fit(X_train, y_train)\n",
        "\n",
        "# Predict the labels of the test set\n",
        "y_pred = model.predict(X_test)\n",
        "\n",
        "# Evaluate the model's accuracy\n",
        "accuracy = accuracy_score(y_test, y_pred)\n",
        "print(\"Accuracy of Random Forest Classifier:\", accuracy)\n",
        "\n",
        "# Compute the confusion matrix\n",
        "conf_matrix = confusion_matrix(y_test, y_pred)\n",
        "\n",
        "# Identify misclassified samples\n",
        "misclassified_samples = X_test[y_test != y_pred]\n",
        "misclassified_true_labels = y_test[y_test != y_pred]\n",
        "misclassified_pred_labels = y_pred[y_test != y_pred]\n",
        "\n",
        "print(\"Number of misclassified samples:\", len(misclassified_samples))\n",
        "print(\"Misclassified samples' true labels:\", misclassified_true_labels)\n",
        "print(\"Misclassified samples' predicted labels:\", misclassified_pred_labels)\n",
        "\n",
        "# Optional: Analyzing the misclassified samples\n",
        "import pandas as pd\n",
        "\n",
        "# Create a DataFrame for better visualization of misclassified samples\n",
        "misclassified_df = pd.DataFrame(misclassified_samples, columns=breast_cancer.feature_names)\n",
        "misclassified_df['True Label'] = misclassified_true_labels\n",
        "misclassified_df['Predicted Label'] = misclassified_pred_labels\n",
        "\n",
        "print(\"\\nMisclassified Samples DataFrame:\")\n",
        "print(misclassified_df)"
      ],
      "metadata": {
        "colab": {
          "base_uri": "https://localhost:8080/"
        },
        "id": "zjTdtWv1ylhB",
        "outputId": "6cc154c6-6e82-48b0-bf82-969a50252788"
      },
      "execution_count": 38,
      "outputs": [
        {
          "output_type": "stream",
          "name": "stdout",
          "text": [
            "Accuracy of Random Forest Classifier: 0.9649122807017544\n",
            "Number of misclassified samples: 4\n",
            "Misclassified samples' true labels: [1 0 0 0]\n",
            "Misclassified samples' predicted labels: [0 1 1 1]\n",
            "\n",
            "Misclassified Samples DataFrame:\n",
            "   mean radius  mean texture  mean perimeter  mean area  mean smoothness  \\\n",
            "0        13.34         15.86           86.49      520.0          0.10780   \n",
            "1        13.80         15.79           90.43      584.1          0.10070   \n",
            "2        13.96         17.05           91.43      602.4          0.10960   \n",
            "3        14.48         21.46           94.25      648.2          0.09444   \n",
            "\n",
            "   mean compactness  mean concavity  mean concave points  mean symmetry  \\\n",
            "0           0.15350         0.11690              0.06987         0.1942   \n",
            "1           0.12800         0.07789              0.05069         0.1662   \n",
            "2           0.12790         0.09789              0.05246         0.1908   \n",
            "3           0.09947         0.12040              0.04938         0.2075   \n",
            "\n",
            "   mean fractal dimension  ...  worst perimeter  worst area  worst smoothness  \\\n",
            "0                 0.06902  ...            96.66       614.9            0.1536   \n",
            "1                 0.06566  ...           110.30       812.4            0.1411   \n",
            "2                 0.06130  ...           108.10       826.0            0.1512   \n",
            "3                 0.05636  ...           108.40       808.9            0.1306   \n",
            "\n",
            "   worst compactness  worst concavity  worst concave points  worst symmetry  \\\n",
            "0             0.4791           0.4858                0.1708          0.3527   \n",
            "1             0.3542           0.2779                0.1383          0.2589   \n",
            "2             0.3262           0.3209                0.1374          0.3068   \n",
            "3             0.1976           0.3349                0.1225          0.3020   \n",
            "\n",
            "   worst fractal dimension  True Label  Predicted Label  \n",
            "0                  0.10160           1                0  \n",
            "1                  0.10300           0                1  \n",
            "2                  0.07957           0                1  \n",
            "3                  0.06846           0                1  \n",
            "\n",
            "[4 rows x 32 columns]\n"
          ]
        }
      ]
    },
    {
      "cell_type": "markdown",
      "source": [
        "Q34. Train a Bagging Classifier and compare its performance with a single Decision Tree Classifier?"
      ],
      "metadata": {
        "id": "Fc6BErKayxO9"
      }
    },
    {
      "cell_type": "code",
      "source": [
        "# Import necessary libraries\n",
        "from sklearn.datasets import load_breast_cancer\n",
        "from sklearn.model_selection import train_test_split\n",
        "from sklearn.ensemble import BaggingClassifier\n",
        "from sklearn.tree import DecisionTreeClassifier\n",
        "from sklearn.metrics import accuracy_score\n",
        "\n",
        "# Load the Breast Cancer dataset\n",
        "breast_cancer = load_breast_cancer()\n",
        "X_train, X_test, y_train, y_test = train_test_split(breast_cancer.data, breast_cancer.target, test_size=0.2, random_state=42)\n",
        "\n",
        "# Train a Bagging Classifier using Decision Tree as base estimator\n",
        "bagging_classifier = BaggingClassifier(estimator=DecisionTreeClassifier(), n_estimators=50, random_state=42)\n",
        "bagging_classifier.fit(X_train, y_train)\n",
        "\n",
        "# Train a single Decision Tree Classifier\n",
        "tree_classifier = DecisionTreeClassifier()\n",
        "tree_classifier.fit(X_train, y_train)\n",
        "\n",
        "# Predict and evaluate the Bagging Classifier\n",
        "y_pred_bagging = bagging_classifier.predict(X_test)\n",
        "accuracy_bagging = accuracy_score(y_test, y_pred_bagging)\n",
        "print(\"Accuracy of Bagging Classifier:\", accuracy_bagging)\n",
        "\n",
        "# Predict and evaluate the Decision Tree Classifier\n",
        "y_pred_tree = tree_classifier.predict(X_test)\n",
        "accuracy_tree = accuracy_score(y_test, y_pred_tree)\n",
        "print(\"Accuracy of Decision Tree Classifier:\", accuracy_tree)\n",
        "\n",
        "# Compare the accuracies\n",
        "print(f\"Accuracy of Bagging Classifier: {accuracy_bagging:.4f}\")\n",
        "print(f\"Accuracy of Decision Tree Classifier: {accuracy_tree:.4f}\")"
      ],
      "metadata": {
        "colab": {
          "base_uri": "https://localhost:8080/"
        },
        "id": "jBtrnEbwyvPZ",
        "outputId": "c880174a-4dd1-4485-b1fb-8833bda4b65a"
      },
      "execution_count": 37,
      "outputs": [
        {
          "output_type": "stream",
          "name": "stdout",
          "text": [
            "Accuracy of Bagging Classifier: 0.956140350877193\n",
            "Accuracy of Decision Tree Classifier: 0.9385964912280702\n",
            "Accuracy of Bagging Classifier: 0.9561\n",
            "Accuracy of Decision Tree Classifier: 0.9386\n"
          ]
        }
      ]
    },
    {
      "cell_type": "markdown",
      "source": [
        "Q35. Train a Random Forest Classifier and visualize the confusion matrix?"
      ],
      "metadata": {
        "id": "lJBmLQBPy7CO"
      }
    },
    {
      "cell_type": "code",
      "source": [
        "# Import necessary libraries\n",
        "from sklearn.datasets import load_breast_cancer\n",
        "from sklearn.model_selection import train_test_split\n",
        "from sklearn.ensemble import RandomForestClassifier\n",
        "from sklearn.metrics import confusion_matrix, accuracy_score\n",
        "import seaborn as sns\n",
        "import matplotlib.pyplot as plt\n",
        "\n",
        "# Load the Breast Cancer dataset\n",
        "breast_cancer = load_breast_cancer()\n",
        "X_train, X_test, y_train, y_test = train_test_split(breast_cancer.data, breast_cancer.target, test_size=0.2, random_state=42)\n",
        "\n",
        "# Train a Random Forest Classifier\n",
        "model = RandomForestClassifier(n_estimators=100, random_state=42)\n",
        "model.fit(X_train, y_train)\n",
        "\n",
        "# Predict the labels of the test set\n",
        "y_pred = model.predict(X_test)\n",
        "\n",
        "# Compute the confusion matrix\n",
        "cm = confusion_matrix(y_test, y_pred)\n",
        "\n",
        "# Visualize the confusion matrix using seaborn\n",
        "plt.figure(figsize=(10, 6))\n",
        "sns.heatmap(cm, annot=True, fmt='d', cmap='Blues', xticklabels=breast_cancer.target_names, yticklabels=breast_cancer.target_names)\n",
        "plt.xlabel('Predicted')\n",
        "plt.ylabel('True')\n",
        "plt.title('Confusion Matrix')\n",
        "plt.show()\n",
        "\n",
        "# Print the accuracy\n",
        "accuracy = accuracy_score(y_test, y_pred)\n",
        "print(\"Accuracy of Random Forest Classifier:\", accuracy)"
      ],
      "metadata": {
        "colab": {
          "base_uri": "https://localhost:8080/",
          "height": 581
        },
        "id": "Yn4nMxFhy4Gr",
        "outputId": "45ec69f6-f789-4926-d933-ef0292453fe8"
      },
      "execution_count": 36,
      "outputs": [
        {
          "output_type": "display_data",
          "data": {
            "text/plain": [
              "<Figure size 1000x600 with 2 Axes>"
            ],
            "image/png": "[encoded data removed]"
          },
          "metadata": {}
        },
        {
          "output_type": "stream",
          "name": "stdout",
          "text": [
            "Accuracy of Random Forest Classifier: 0.9649122807017544\n"
          ]
        }
      ]
    },
    {
      "cell_type": "markdown",
      "source": [
        "Q36. Train a Stacking Classifier using Decision Trees, SVM, and Logistic Regression, and compare accuracy?"
      ],
      "metadata": {
        "id": "tg-DBSIXzJv3"
      }
    },
    {
      "cell_type": "code",
      "source": [
        "from sklearn.datasets import load_breast_cancer\n",
        "from sklearn.model_selection import train_test_split\n",
        "from sklearn.ensemble import StackingClassifier\n",
        "from sklearn.tree import DecisionTreeClassifier\n",
        "from sklearn.svm import SVC\n",
        "from sklearn.linear_model import LogisticRegression\n",
        "from sklearn.metrics import accuracy_score\n",
        "\n",
        "# Load the Breast Cancer dataset\n",
        "breast_cancer = load_breast_cancer()\n",
        "X_train, X_test, y_train, y_test = train_test_split(breast_cancer.data, breast_cancer.target, test_size=0.2, random_state=42)\n",
        "\n",
        "# Define base estimators\n",
        "estimators = [\n",
        "    ('decision_tree', DecisionTreeClassifier()),\n",
        "    ('svm', SVC(probability=True)),\n",
        "    ('logistic_regression', LogisticRegression(max_iter=10000))\n",
        "]\n",
        "\n",
        "# Define the Stacking Classifier\n",
        "stacking_classifier = StackingClassifier(estimators=estimators, final_estimator=LogisticRegression())\n",
        "\n",
        "# Train the Stacking Classifier\n",
        "stacking_classifier.fit(X_train, y_train)\n",
        "\n",
        "# Predict and evaluate the Stacking Classifier\n",
        "y_pred_stacking = stacking_classifier.predict(X_test)\n",
        "accuracy_stacking = accuracy_score(y_test, y_pred_stacking)\n",
        "print(\"Accuracy of Stacking Classifier:\", accuracy_stacking)\n",
        "\n",
        "# Train and evaluate individual classifiers for comparison\n",
        "# Decision Tree\n",
        "dt_classifier = DecisionTreeClassifier()\n",
        "dt_classifier.fit(X_train, y_train)\n",
        "y_pred_dt = dt_classifier.predict(X_test)\n",
        "accuracy_dt = accuracy_score(y_test, y_pred_dt)\n",
        "print(\"Accuracy of Decision Tree Classifier:\", accuracy_dt)\n",
        "\n",
        "# SVM\n",
        "svm_classifier = SVC()\n",
        "svm_classifier.fit(X_train, y_train)\n",
        "y_pred_svm = svm_classifier.predict(X_test)\n",
        "accuracy_svm = accuracy_score(y_test, y_pred_svm)\n",
        "print(\"Accuracy of SVM Classifier:\", accuracy_svm)\n",
        "\n",
        "# Logistic Regression\n",
        "lr_classifier = LogisticRegression(max_iter=10000)\n",
        "lr_classifier.fit(X_train, y_train)\n",
        "y_pred_lr = lr_classifier.predict(X_test)\n",
        "accuracy_lr = accuracy_score(y_test, y_pred_lr)\n",
        "print(\"Accuracy of Logistic Regression Classifier:\", accuracy_lr)\n",
        "\n",
        "# Compare the accuracies\n",
        "print(f\"Accuracy of Stacking Classifier: {accuracy_stacking:.4f}\")\n",
        "print(f\"Accuracy of Decision Tree Classifier: {accuracy_dt:.4f}\")\n",
        "print(f\"Accuracy of SVM Classifier: {accuracy_svm:.4f}\")\n",
        "print(f\"Accuracy of Logistic Regression Classifier: {accuracy_lr:.4f}\")"
      ],
      "metadata": {
        "colab": {
          "base_uri": "https://localhost:8080/"
        },
        "id": "ZekYOu5vzCCK",
        "outputId": "abdfe0ba-1e84-437f-8883-fce68a49df1e"
      },
      "execution_count": 35,
      "outputs": [
        {
          "output_type": "stream",
          "name": "stdout",
          "text": [
            "Accuracy of Stacking Classifier: 0.956140350877193\n",
            "Accuracy of Decision Tree Classifier: 0.9473684210526315\n",
            "Accuracy of SVM Classifier: 0.9473684210526315\n",
            "Accuracy of Logistic Regression Classifier: 0.956140350877193\n",
            "Accuracy of Stacking Classifier: 0.9561\n",
            "Accuracy of Decision Tree Classifier: 0.9474\n",
            "Accuracy of SVM Classifier: 0.9474\n",
            "Accuracy of Logistic Regression Classifier: 0.9561\n"
          ]
        }
      ]
    },
    {
      "cell_type": "markdown",
      "source": [
        "Q37. Train a Random Forest Classifier and print the top 5 most important features?"
      ],
      "metadata": {
        "id": "-hzCmamfzT4l"
      }
    },
    {
      "cell_type": "code",
      "source": [
        "from sklearn.datasets import load_breast_cancer\n",
        "from sklearn.model_selection import train_test_split\n",
        "from sklearn.ensemble import RandomForestClassifier\n",
        "import pandas as pd\n",
        "\n",
        "# Load the Breast Cancer dataset\n",
        "breast_cancer = load_breast_cancer()\n",
        "X_train, X_test, y_train, y_test = train_test_split(breast_cancer.data, breast_cancer.target, test_size=0.2, random_state=42)\n",
        "\n",
        "# Train a Random Forest Classifier\n",
        "model = RandomForestClassifier(n_estimators=100, random_state=42)\n",
        "model.fit(X_train, y_train)\n",
        "\n",
        "# Get feature importance scores\n",
        "feature_importances = model.feature_importances_\n",
        "features = breast_cancer.feature_names\n",
        "\n",
        "# Create a DataFrame for better visualization\n",
        "importance_df = pd.DataFrame({'Feature': features, 'Importance': feature_importances})\n",
        "\n",
        "# Sort by importance and get the top 5 features\n",
        "importance_df_sorted = importance_df.sort_values(by='Importance', ascending=False)\n",
        "top_5_features = importance_df_sorted.head(5)\n",
        "\n",
        "print(\"Top 5 Most Important Features:\")\n",
        "print(top_5_features)"
      ],
      "metadata": {
        "colab": {
          "base_uri": "https://localhost:8080/"
        },
        "id": "5lfhlg7PzTbi",
        "outputId": "0fadbcf7-490a-4e48-bee7-2dbd9c5f3369"
      },
      "execution_count": 34,
      "outputs": [
        {
          "output_type": "stream",
          "name": "stdout",
          "text": [
            "Top 5 Most Important Features:\n",
            "                 Feature  Importance\n",
            "23            worst area    0.153892\n",
            "27  worst concave points    0.144663\n",
            "7    mean concave points    0.106210\n",
            "20          worst radius    0.077987\n",
            "6         mean concavity    0.068001\n"
          ]
        }
      ]
    },
    {
      "cell_type": "markdown",
      "source": [
        "Q38. Train a Bagging Classifier and evaluate performance using Precision, Recall, and F1-score?"
      ],
      "metadata": {
        "id": "9KuYIK-0z2qM"
      }
    },
    {
      "cell_type": "code",
      "source": [
        "from sklearn.datasets import load_breast_cancer\n",
        "from sklearn.model_selection import train_test_split\n",
        "from sklearn.ensemble import BaggingClassifier\n",
        "from sklearn.tree import DecisionTreeClassifier\n",
        "from sklearn.metrics import precision_score, recall_score, f1_score, accuracy_score\n",
        "\n",
        "# Load the Breast Cancer dataset\n",
        "breast_cancer = load_breast_cancer()\n",
        "X_train, X_test, y_train, y_test = train_test_split(breast_cancer.data, breast_cancer.target, test_size=0.2, random_state=42)\n",
        "\n",
        "# Train a Bagging Classifier using Decision Tree as base estimator\n",
        "bagging_classifier = BaggingClassifier(estimator=DecisionTreeClassifier(), n_estimators=50, random_state=42)\n",
        "bagging_classifier.fit(X_train, y_train)\n",
        "\n",
        "# Predict the labels of the test set\n",
        "y_pred = bagging_classifier.predict(X_test)\n",
        "\n",
        "# Evaluate the model using Precision, Recall, and F1-score\n",
        "precision = precision_score(y_test, y_pred, average='weighted')\n",
        "recall = recall_score(y_test, y_pred, average='weighted')\n",
        "f1 = f1_score(y_test, y_pred, average='weighted')\n",
        "accuracy = accuracy_score(y_test, y_pred)\n",
        "\n",
        "# Print the evaluation metrics\n",
        "print(f\"Precision: {precision:.2f}\")\n",
        "print(f\"Recall: {recall:.2f}\")\n",
        "print(f\"F1-Score: {f1:.2f}\")\n",
        "print(f\"Accuracy: {accuracy:.2f}\")"
      ],
      "metadata": {
        "colab": {
          "base_uri": "https://localhost:8080/"
        },
        "id": "bWHskAV1za-b",
        "outputId": "eae0f06e-13f6-4687-a7a6-b112e7d12668"
      },
      "execution_count": 33,
      "outputs": [
        {
          "output_type": "stream",
          "name": "stdout",
          "text": [
            "Precision: 0.96\n",
            "Recall: 0.96\n",
            "F1-Score: 0.96\n",
            "Accuracy: 0.96\n"
          ]
        }
      ]
    },
    {
      "cell_type": "markdown",
      "source": [
        "Q39. Train a Random Forest Classifier and analyze the effect of max_depth on accuracy?"
      ],
      "metadata": {
        "id": "fzSe1fg7z9g4"
      }
    },
    {
      "cell_type": "code",
      "source": [
        "# Import necessary libraries\n",
        "from sklearn.datasets import load_breast_cancer\n",
        "from sklearn.model_selection import train_test_split\n",
        "from sklearn.ensemble import RandomForestClassifier\n",
        "from sklearn.metrics import accuracy_score\n",
        "import matplotlib.pyplot as plt\n",
        "\n",
        "# Load the Breast Cancer dataset\n",
        "breast_cancer = load_breast_cancer()\n",
        "X_train, X_test, y_train, y_test = train_test_split(breast_cancer.data, breast_cancer.target, test_size=0.2, random_state=42)\n",
        "\n",
        "# List of different max_depth values to try\n",
        "max_depth_list = [None, 5, 10, 15, 20, 25]\n",
        "\n",
        "# Dictionary to store accuracies for each max_depth value\n",
        "accuracy_results = {}\n",
        "\n",
        "# Train and evaluate Random Forest Classifier for each max_depth value\n",
        "for max_depth in max_depth_list:\n",
        "    model = RandomForestClassifier(n_estimators=100, max_depth=max_depth, random_state=42)\n",
        "    model.fit(X_train, y_train)\n",
        "    y_pred = model.predict(X_test)\n",
        "    accuracy = accuracy_score(y_test, y_pred)\n",
        "    accuracy_results[max_depth] = accuracy\n",
        "    print(f\"Accuracy with max_depth={max_depth}: {accuracy:.4f}\")\n",
        "\n",
        "# Plot the effect of max_depth on accuracy\n",
        "plt.figure(figsize=(10, 6))\n",
        "plt.plot(max_depth_list, list(accuracy_results.values()), marker='o')\n",
        "plt.xlabel(\"max_depth\")\n",
        "plt.ylabel(\"Accuracy\")\n",
        "plt.title(\"Effect of max_depth on Accuracy\")\n",
        "plt.grid(True)\n",
        "plt.show()\n",
        "\n",
        "# Print accuracy results\n",
        "print(\"\\nAccuracy Results:\")\n",
        "for max_depth, accuracy in accuracy_results.items():\n",
        "    print(f\"max_depth={max_depth}: {accuracy:.4f}\")"
      ],
      "metadata": {
        "colab": {
          "base_uri": "https://localhost:8080/",
          "height": 807
        },
        "id": "0HPocMnfz8vf",
        "outputId": "27244f18-6470-4c81-8626-2ed5fed04fc9"
      },
      "execution_count": 40,
      "outputs": [
        {
          "output_type": "stream",
          "name": "stdout",
          "text": [
            "Accuracy with max_depth=None: 0.9649\n",
            "Accuracy with max_depth=5: 0.9649\n",
            "Accuracy with max_depth=10: 0.9649\n",
            "Accuracy with max_depth=15: 0.9649\n",
            "Accuracy with max_depth=20: 0.9649\n",
            "Accuracy with max_depth=25: 0.9649\n"
          ]
        },
        {
          "output_type": "display_data",
          "data": {
            "text/plain": [
              "<Figure size 1000x600 with 1 Axes>"
            ],
            "image/png": "[encoded data removed]"
          },
          "metadata": {}
        },
        {
          "output_type": "stream",
          "name": "stdout",
          "text": [
            "\n",
            "Accuracy Results:\n",
            "max_depth=None: 0.9649\n",
            "max_depth=5: 0.9649\n",
            "max_depth=10: 0.9649\n",
            "max_depth=15: 0.9649\n",
            "max_depth=20: 0.9649\n",
            "max_depth=25: 0.9649\n"
          ]
        }
      ]
    },
    {
      "cell_type": "markdown",
      "source": [
        "Q40. Train a Bagging Regressor using different base estimators (DecisionTree and KNeighbors) and compare performance?"
      ],
      "metadata": {
        "id": "IGbJBbjG0Vs8"
      }
    },
    {
      "cell_type": "code",
      "source": [
        "# Import necessary libraries\n",
        "from sklearn.tree import DecisionTreeRegressor\n",
        "from sklearn.neighbors import KNeighborsRegressor\n",
        "from sklearn.ensemble import BaggingRegressor\n",
        "from sklearn.datasets import fetch_california_housing\n",
        "from sklearn.model_selection import train_test_split\n",
        "from sklearn.metrics import mean_squared_error\n",
        "\n",
        "# Load the California Housing dataset\n",
        "data = fetch_california_housing()\n",
        "X_train, X_test, y_train, y_test = train_test_split(data.data, data.target, test_size=0.2, random_state=42)\n",
        "\n",
        "# Dictionary to store MSE for each base estimator\n",
        "mse_results = {}\n",
        "\n",
        "# Train and evaluate Bagging Regressor using Decision Tree as base estimator\n",
        "dt_model = BaggingRegressor(estimator=DecisionTreeRegressor(), n_estimators=50, random_state=42)\n",
        "dt_model.fit(X_train, y_train)\n",
        "y_pred_dt = dt_model.predict(X_test)\n",
        "mse_dt = mean_squared_error(y_test, y_pred_dt)\n",
        "mse_results['DecisionTree'] = mse_dt\n",
        "print(f\"MSE of Bagging Regressor with Decision Tree: {mse_dt:.4f}\")\n",
        "\n",
        "# Train and evaluate Bagging Regressor using KNeighbors as base estimator\n",
        "knn_model = BaggingRegressor(estimator=KNeighborsRegressor(), n_estimators=50, random_state=42)\n",
        "knn_model.fit(X_train, y_train)\n",
        "y_pred_knn = knn_model.predict(X_test)\n",
        "mse_knn = mean_squared_error(y_test, y_pred_knn)\n",
        "mse_results['KNeighbors'] = mse_knn\n",
        "print(f\"MSE of Bagging Regressor with KNeighbors: {mse_knn:.4f}\")\n",
        "\n",
        "# Print MSE results\n",
        "print(\"\\nMSE Results:\")\n",
        "for estimator, mse in mse_results.items():\n",
        "    print(f\"{estimator} base estimator: {mse:.4f}\")"
      ],
      "metadata": {
        "colab": {
          "base_uri": "https://localhost:8080/"
        },
        "id": "jWCKp31O0UM6",
        "outputId": "6876e928-b805-4a1a-d36f-f25b62c85058"
      },
      "execution_count": 41,
      "outputs": [
        {
          "output_type": "stream",
          "name": "stdout",
          "text": [
            "MSE of Bagging Regressor with Decision Tree: 0.2573\n",
            "MSE of Bagging Regressor with KNeighbors: 1.0763\n",
            "\n",
            "MSE Results:\n",
            "DecisionTree base estimator: 0.2573\n",
            "KNeighbors base estimator: 1.0763\n"
          ]
        }
      ]
    },
    {
      "cell_type": "markdown",
      "source": [
        "Q41. Train a Random Forest Classifier and evaluate its performance using ROC-AUC Score?"
      ],
      "metadata": {
        "id": "q904QY7E0gmc"
      }
    },
    {
      "cell_type": "code",
      "source": [
        "from sklearn.datasets import load_breast_cancer\n",
        "from sklearn.model_selection import train_test_split\n",
        "from sklearn.ensemble import RandomForestClassifier\n",
        "from sklearn.metrics import roc_auc_score, roc_curve\n",
        "import matplotlib.pyplot as plt\n",
        "\n",
        "# Load the Breast Cancer dataset\n",
        "breast_cancer = load_breast_cancer()\n",
        "X_train, X_test, y_train, y_test = train_test_split(breast_cancer.data, breast_cancer.target, test_size=0.2, random_state=42)\n",
        "\n",
        "# Train a Random Forest Classifier\n",
        "model = RandomForestClassifier(n_estimators=100, random_state=42)\n",
        "model.fit(X_train, y_train)\n",
        "\n",
        "# Predict probabilities of the positive class\n",
        "y_pred_proba = model.predict_proba(X_test)[:, 1]\n",
        "\n",
        "# Compute ROC-AUC score\n",
        "roc_auc = roc_auc_score(y_test, y_pred_proba)\n",
        "print(\"ROC-AUC Score of Random Forest Classifier:\", roc_auc)\n",
        "\n",
        "# Compute ROC curve\n",
        "fpr, tpr, thresholds = roc_curve(y_test, y_pred_proba)\n",
        "\n",
        "# Plot ROC curve\n",
        "plt.figure(figsize=(10, 6))\n",
        "plt.plot(fpr, tpr, label=f'Random Forest (AUC = {roc_auc:.2f})')\n",
        "plt.plot([0, 1], [0, 1], 'k--', label='Random Chance')\n",
        "plt.xlabel('False Positive Rate')\n",
        "plt.ylabel('True Positive Rate')\n",
        "plt.title('ROC Curve')\n",
        "plt.legend(loc='best')\n",
        "plt.grid(True)\n",
        "plt.show()"
      ],
      "metadata": {
        "colab": {
          "base_uri": "https://localhost:8080/",
          "height": 581
        },
        "id": "KUBty_cy0clz",
        "outputId": "042af9d8-0ce8-4d4c-c0b7-682f861034e9"
      },
      "execution_count": 42,
      "outputs": [
        {
          "output_type": "stream",
          "name": "stdout",
          "text": [
            "ROC-AUC Score of Random Forest Classifier: 0.9952505732066819\n"
          ]
        },
        {
          "output_type": "display_data",
          "data": {
            "text/plain": [
              "<Figure size 1000x600 with 1 Axes>"
            ],
            "image/png": "[encoded data removed]"
          },
          "metadata": {}
        }
      ]
    },
    {
      "cell_type": "markdown",
      "source": [
        "Q42. Train a Bagging Classifier and evaluate its performance using cross-validation ?"
      ],
      "metadata": {
        "id": "alb_q8sW0rgI"
      }
    },
    {
      "cell_type": "code",
      "source": [
        "from sklearn.datasets import load_breast_cancer\n",
        "from sklearn.model_selection import cross_val_score\n",
        "from sklearn.ensemble import BaggingClassifier\n",
        "from sklearn.tree import DecisionTreeClassifier\n",
        "\n",
        "# Load the Breast Cancer dataset\n",
        "breast_cancer = load_breast_cancer()\n",
        "X, y = breast_cancer.data, breast_cancer.target\n",
        "\n",
        "# Train a Bagging Classifier using Decision Tree as base estimator\n",
        "bagging_classifier = BaggingClassifier(estimator=DecisionTreeClassifier(), n_estimators=50, random_state=42)\n",
        "\n",
        "# Evaluate performance using cross-validation\n",
        "cv_scores = cross_val_score(bagging_classifier, X, y, cv=5, scoring='accuracy')\n",
        "\n",
        "# Print the cross-validation scores and their mean\n",
        "print(\"Cross-Validation Scores:\", cv_scores)\n",
        "print(\"Mean Cross-Validation Score:\", cv_scores.mean())"
      ],
      "metadata": {
        "colab": {
          "base_uri": "https://localhost:8080/"
        },
        "id": "m-D9iRMk0lqb",
        "outputId": "3d25eb8a-703f-4840-ed9d-41ba5369a5a9"
      },
      "execution_count": 43,
      "outputs": [
        {
          "output_type": "stream",
          "name": "stdout",
          "text": [
            "Cross-Validation Scores: [0.9122807  0.92105263 0.98245614 0.95614035 1.        ]\n",
            "Mean Cross-Validation Score: 0.9543859649122808\n"
          ]
        }
      ]
    },
    {
      "cell_type": "markdown",
      "source": [
        "Q43. Train a Random Forest Classifier and plot the Precision-Recall curve?"
      ],
      "metadata": {
        "id": "cX0AhPr903Vc"
      }
    },
    {
      "cell_type": "code",
      "source": [
        "from sklearn.datasets import load_breast_cancer\n",
        "from sklearn.model_selection import train_test_split\n",
        "from sklearn.ensemble import RandomForestClassifier\n",
        "from sklearn.metrics import precision_recall_curve, auc\n",
        "import matplotlib.pyplot as plt\n",
        "\n",
        "# Load the Breast Cancer dataset\n",
        "breast_cancer = load_breast_cancer()\n",
        "X_train, X_test, y_train, y_test = train_test_split(breast_cancer.data, breast_cancer.target, test_size=0.2, random_state=42)\n",
        "\n",
        "# Train a Random Forest Classifier\n",
        "model = RandomForestClassifier(n_estimators=100, random_state=42)\n",
        "model.fit(X_train, y_train)\n",
        "\n",
        "# Predict probabilities of the positive class\n",
        "y_pred_proba = model.predict_proba(X_test)[:, 1]\n",
        "\n",
        "# Compute Precision-Recall curve\n",
        "precision, recall, thresholds = precision_recall_curve(y_test, y_pred_proba)\n",
        "pr_auc = auc(recall, precision)\n",
        "\n",
        "# Plot Precision-Recall curve\n",
        "plt.figure(figsize=(10, 6))\n",
        "plt.plot(recall, precision, label=f'Random Forest (AUC = {pr_auc:.2f})')\n",
        "plt.xlabel('Recall')\n",
        "plt.ylabel('Precision')\n",
        "plt.title('Precision-Recall Curve')\n",
        "plt.legend(loc='best')\n",
        "plt.grid(True)\n",
        "plt.show()"
      ],
      "metadata": {
        "colab": {
          "base_uri": "https://localhost:8080/",
          "height": 564
        },
        "id": "DCyJMM9M0yn6",
        "outputId": "1f167665-e682-461f-bdfe-661af4243fde"
      },
      "execution_count": 44,
      "outputs": [
        {
          "output_type": "display_data",
          "data": {
            "text/plain": [
              "<Figure size 1000x600 with 1 Axes>"
            ],
            "image/png": "[encoded data removed]"
          },
          "metadata": {}
        }
      ]
    },
    {
      "cell_type": "markdown",
      "source": [
        "Q44. Train a Stacking Classifier with Random Forest and Logistic Regression and compare accuracy?"
      ],
      "metadata": {
        "id": "SkEvmtQl0-_-"
      }
    },
    {
      "cell_type": "code",
      "source": [
        "from sklearn.datasets import load_breast_cancer\n",
        "from sklearn.model_selection import train_test_split\n",
        "from sklearn.ensemble import StackingClassifier, RandomForestClassifier\n",
        "from sklearn.linear_model import LogisticRegression\n",
        "from sklearn.metrics import accuracy_score\n",
        "\n",
        "# Load the Breast Cancer dataset\n",
        "breast_cancer = load_breast_cancer()\n",
        "X_train, X_test, y_train, y_test = train_test_split(breast_cancer.data, breast_cancer.target, test_size=0.2, random_state=42)\n",
        "\n",
        "# Define base estimators\n",
        "estimators = [\n",
        "    ('random_forest', RandomForestClassifier(n_estimators=100, random_state=42)),\n",
        "    ('logistic_regression', LogisticRegression(max_iter=10000))\n",
        "]\n",
        "\n",
        "# Define the Stacking Classifier\n",
        "stacking_classifier = StackingClassifier(estimators=estimators, final_estimator=LogisticRegression())\n",
        "\n",
        "# Train the Stacking Classifier\n",
        "stacking_classifier.fit(X_train, y_train)\n",
        "\n",
        "# Predict and evaluate the Stacking Classifier\n",
        "y_pred_stacking = stacking_classifier.predict(X_test)\n",
        "accuracy_stacking = accuracy_score(y_test, y_pred_stacking)\n",
        "print(\"Accuracy of Stacking Classifier:\", accuracy_stacking)\n",
        "\n",
        "# Train and evaluate individual classifiers for comparison\n",
        "# Random Forest\n",
        "rf_classifier = RandomForestClassifier(n_estimators=100, random_state=42)\n",
        "rf_classifier.fit(X_train, y_train)\n",
        "y_pred_rf = rf_classifier.predict(X_test)\n",
        "accuracy_rf = accuracy_score(y_test, y_pred_rf)\n",
        "print(\"Accuracy of Random Forest Classifier:\", accuracy_rf)\n",
        "\n",
        "# Logistic Regression\n",
        "lr_classifier = LogisticRegression(max_iter=10000)\n",
        "lr_classifier.fit(X_train, y_train)\n",
        "y_pred_lr = lr_classifier.predict(X_test)\n",
        "accuracy_lr = accuracy_score(y_test, y_pred_lr)\n",
        "print(\"Accuracy of Logistic Regression Classifier:\", accuracy_lr)\n",
        "\n",
        "# Compare the accuracies\n",
        "print(f\"Accuracy of Stacking Classifier: {accuracy_stacking:.4f}\")\n",
        "print(f\"Accuracy of Random Forest Classifier: {accuracy_rf:.4f}\")\n",
        "print(f\"Accuracy of Logistic Regression Classifier: {accuracy_lr:.4f}\")"
      ],
      "metadata": {
        "colab": {
          "base_uri": "https://localhost:8080/"
        },
        "id": "ol7ORmiJ08Ct",
        "outputId": "fe12133e-3e50-427c-c712-335f4707ec11"
      },
      "execution_count": 45,
      "outputs": [
        {
          "output_type": "stream",
          "name": "stdout",
          "text": [
            "Accuracy of Stacking Classifier: 0.9649122807017544\n",
            "Accuracy of Random Forest Classifier: 0.9649122807017544\n",
            "Accuracy of Logistic Regression Classifier: 0.956140350877193\n",
            "Accuracy of Stacking Classifier: 0.9649\n",
            "Accuracy of Random Forest Classifier: 0.9649\n",
            "Accuracy of Logistic Regression Classifier: 0.9561\n"
          ]
        }
      ]
    },
    {
      "cell_type": "markdown",
      "source": [
        "Q45. Train a Bagging Regressor with different levels of bootstrap samples and compare performance?"
      ],
      "metadata": {
        "id": "jqq1prNj1HIW"
      }
    },
    {
      "cell_type": "code",
      "source": [
        "# Import necessary libraries\n",
        "from sklearn.datasets import fetch_california_housing\n",
        "from sklearn.model_selection import train_test_split\n",
        "from sklearn.tree import DecisionTreeRegressor\n",
        "from sklearn.ensemble import BaggingRegressor\n",
        "from sklearn.metrics import mean_squared_error\n",
        "\n",
        "# Load the California Housing dataset\n",
        "data = fetch_california_housing()\n",
        "X_train, X_test, y_train, y_test = train_test_split(data.data, data.target, test_size=0.2, random_state=42)\n",
        "\n",
        "# List of different max_samples values to try (proportion of samples to draw)\n",
        "max_samples_list = [0.5, 0.7, 0.9, 1.0]\n",
        "\n",
        "# Dictionary to store MSE for each max_samples value\n",
        "mse_results = {}\n",
        "\n",
        "# Train and evaluate Bagging Regressor for each max_samples value\n",
        "for max_samples in max_samples_list:\n",
        "    model = BaggingRegressor(estimator=DecisionTreeRegressor(), n_estimators=50, max_samples=max_samples, random_state=42)\n",
        "    model.fit(X_train, y_train)\n",
        "    y_pred = model.predict(X_test)\n",
        "    mse = mean_squared_error(y_test, y_pred)\n",
        "    mse_results[max_samples] = mse\n",
        "    print(f\"MSE with max_samples={max_samples}: {mse:.4f}\")\n",
        "\n",
        "# Print MSE results\n",
        "print(\"\\nMSE Results:\")\n",
        "for max_samples, mse in mse_results.items():\n",
        "    print(f\"max_samples={max_samples}: {mse:.4f}\")\n"
      ],
      "metadata": {
        "colab": {
          "base_uri": "https://localhost:8080/"
        },
        "id": "d9bV1nSc1aJw",
        "outputId": "db72d894-1405-4e68-bbb5-2795c44accfb"
      },
      "execution_count": 47,
      "outputs": [
        {
          "output_type": "stream",
          "name": "stdout",
          "text": [
            "MSE with max_samples=0.5: 0.2664\n",
            "MSE with max_samples=0.7: 0.2638\n",
            "MSE with max_samples=0.9: 0.2613\n",
            "MSE with max_samples=1.0: 0.2573\n",
            "\n",
            "MSE Results:\n",
            "max_samples=0.5: 0.2664\n",
            "max_samples=0.7: 0.2638\n",
            "max_samples=0.9: 0.2613\n",
            "max_samples=1.0: 0.2573\n"
          ]
        }
      ]
    }
  ]
}